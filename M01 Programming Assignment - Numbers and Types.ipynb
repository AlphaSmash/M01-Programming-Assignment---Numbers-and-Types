{
 "cells": [
  {
   "cell_type": "code",
   "execution_count": 2,
   "id": "ce8ecf0a",
   "metadata": {},
   "outputs": [
    {
     "name": "stdout",
     "output_type": "stream",
     "text": [
      "There are 3600 seconds in an hour\n",
      "There are 86400 seconds in an day\n",
      "When using float division the answer is  24.0\n",
      "When using integer division the answer is  24\n"
     ]
    }
   ],
   "source": [
    "seconds = 60\n",
    "minutes = 60\n",
    "seconds_per_hour = seconds * minutes\n",
    "seconds_per_day = seconds_per_hour * 24\n",
    "float_div = seconds_per_day / seconds_per_hour\n",
    "int_div = seconds_per_day // seconds_per_hour\n",
    "print(\"There are\", seconds_per_hour , \"seconds in an hour\")\n",
    "print(\"There are\", seconds_per_day , \"seconds in an day\")\n",
    "print(\"When using float division the answer is \", float_div)\n",
    "print(\"When using integer division the answer is \", int_div)"
   ]
  }
 ],
 "metadata": {
  "kernelspec": {
   "display_name": "Python 3 (ipykernel)",
   "language": "python",
   "name": "python3"
  },
  "language_info": {
   "codemirror_mode": {
    "name": "ipython",
    "version": 3
   },
   "file_extension": ".py",
   "mimetype": "text/x-python",
   "name": "python",
   "nbconvert_exporter": "python",
   "pygments_lexer": "ipython3",
   "version": "3.11.5"
  }
 },
 "nbformat": 4,
 "nbformat_minor": 5
}
